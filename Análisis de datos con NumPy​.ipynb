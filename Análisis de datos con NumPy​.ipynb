{
 "cells": [
  {
   "cell_type": "markdown",
   "id": "4bde2024",
   "metadata": {},
   "source": [
    "# Ejercicio de Ciencia de Datos con NumPy\n",
    "A continuación, se presenta el paso a paso de los ejercicios con NumPy. Cada sección incluye una explicación en Markdown y el código correspondiente."
   ]
  },
  {
   "cell_type": "markdown",
   "id": "8dc337b0",
   "metadata": {},
   "source": [
    "### 1. Importar NumPy\n",
    "Primero, se importa la biblioteca NumPy, ya que proporciona funciones para trabajar con arrays y matrices numéricas."
   ]
  },
  {
   "cell_type": "code",
   "execution_count": 16,
   "id": "3c4fcaac",
   "metadata": {},
   "outputs": [],
   "source": [
    "import numpy as np"
   ]
  },
  {
   "cell_type": "markdown",
   "id": "e80c631b",
   "metadata": {},
   "source": [
    "### 2. Crear un array del 1 al 100\n",
    "Se usa np.arange() para generar un array con números consecutivos del 1 al 100."
   ]
  },
  {
   "cell_type": "code",
   "execution_count": 17,
   "id": "84633be8",
   "metadata": {},
   "outputs": [
    {
     "name": "stdout",
     "output_type": "stream",
     "text": [
      "Array inicial (1-100):\n",
      " [  1   2   3   4   5   6   7   8   9  10  11  12  13  14  15  16  17  18\n",
      "  19  20  21  22  23  24  25  26  27  28  29  30  31  32  33  34  35  36\n",
      "  37  38  39  40  41  42  43  44  45  46  47  48  49  50  51  52  53  54\n",
      "  55  56  57  58  59  60  61  62  63  64  65  66  67  68  69  70  71  72\n",
      "  73  74  75  76  77  78  79  80  81  82  83  84  85  86  87  88  89  90\n",
      "  91  92  93  94  95  96  97  98  99 100]\n"
     ]
    }
   ],
   "source": [
    "# Crear un array del 1 al 100\n",
    "array_inicial = np.arange(1, 101)\n",
    "print(\"Array inicial (1-100):\\n\", array_inicial)"
   ]
  },
  {
   "cell_type": "markdown",
   "id": "8269af09",
   "metadata": {},
   "source": [
    "## Explicación:\n",
    "np.arange(1, 101) genera valores desde 1 (incluido) hasta 101 (no incluido), es decir, del 1 al 100."
   ]
  },
  {
   "cell_type": "markdown",
   "id": "a5949130",
   "metadata": {},
   "source": [
    "### 3. Convertir el array en una matriz 10x10\n",
    "se usa .reshape() para transformar el array unidimensional en una matriz bidimensional de 10 filas × 10 columnas."
   ]
  },
  {
   "cell_type": "code",
   "execution_count": 18,
   "id": "0ef3423e",
   "metadata": {},
   "outputs": [
    {
     "name": "stdout",
     "output_type": "stream",
     "text": [
      "\n",
      "Matriz 10x10:\n",
      " [[  1   2   3   4   5   6   7   8   9  10]\n",
      " [ 11  12  13  14  15  16  17  18  19  20]\n",
      " [ 21  22  23  24  25  26  27  28  29  30]\n",
      " [ 31  32  33  34  35  36  37  38  39  40]\n",
      " [ 41  42  43  44  45  46  47  48  49  50]\n",
      " [ 51  52  53  54  55  56  57  58  59  60]\n",
      " [ 61  62  63  64  65  66  67  68  69  70]\n",
      " [ 71  72  73  74  75  76  77  78  79  80]\n",
      " [ 81  82  83  84  85  86  87  88  89  90]\n",
      " [ 91  92  93  94  95  96  97  98  99 100]]\n"
     ]
    }
   ],
   "source": [
    "# Cambiar la forma a una matriz 10x10\n",
    "matriz_10x10 = array_inicial.reshape(10, 10)\n",
    "print(\"\\nMatriz 10x10:\\n\", matriz_10x10)"
   ]
  },
  {
   "cell_type": "markdown",
   "id": "d8275545",
   "metadata": {},
   "source": [
    "###Explicación:\n",
    "\n",
    ".reshape(10, 10) reorganiza los 100 elementos en una estructura de 10 filas y 10 columnas.\n",
    "\n",
    "Si el tamaño no coincide (ej: reshape(5, 20)), aparecerá un error."
   ]
  },
  {
   "cell_type": "markdown",
   "id": "2c594315",
   "metadata": {},
   "source": [
    "### 4. Calcular la media de todos los elementos\n",
    "se usa np.mean() para obtener el promedio de todos los valores en la matriz."
   ]
  },
  {
   "cell_type": "code",
   "execution_count": 19,
   "id": "3c30bb21",
   "metadata": {},
   "outputs": [
    {
     "name": "stdout",
     "output_type": "stream",
     "text": [
      "\n",
      "Media de todos los elementos: 50.5\n"
     ]
    }
   ],
   "source": [
    "# Calcular la media\n",
    "media = np.mean(matriz_10x10)\n",
    "print(\"\\nMedia de todos los elementos:\", media)"
   ]
  },
  {
   "cell_type": "markdown",
   "id": "2ede43b2",
   "metadata": {},
   "source": [
    "### 5. Calcular la suma total de los elementos\n",
    "Usamos np.sum() para sumar todos los elementos de la matriz.\n",
    "(fórmula de Gauss: n(n+1)/2)."
   ]
  },
  {
   "cell_type": "code",
   "execution_count": 20,
   "id": "44bcd511",
   "metadata": {},
   "outputs": [
    {
     "name": "stdout",
     "output_type": "stream",
     "text": [
      "Suma total de los elementos: 5050\n"
     ]
    }
   ],
   "source": [
    "# Calcular la suma total\n",
    "suma_total = np.sum(matriz_10x10)\n",
    "print(\"Suma total de los elementos:\", suma_total)"
   ]
  },
  {
   "cell_type": "markdown",
   "id": "669ed985",
   "metadata": {},
   "source": [
    "### 6. Obtener la diagonal principal de la matriz\n",
    "Usamos np.diag() para extraer los elementos de la diagonal principal."
   ]
  },
  {
   "cell_type": "code",
   "execution_count": 21,
   "id": "6c7b2803",
   "metadata": {},
   "outputs": [
    {
     "name": "stdout",
     "output_type": "stream",
     "text": [
      "\n",
      "Diagonal principal:\n",
      " [  1  12  23  34  45  56  67  78  89 100]\n"
     ]
    }
   ],
   "source": [
    "# Obtener la diagonal principal\n",
    "diagonal_principal = np.diag(matriz_10x10)\n",
    "print(\"\\nDiagonal principal:\\n\", diagonal_principal)"
   ]
  },
  {
   "cell_type": "markdown",
   "id": "815e2e14",
   "metadata": {},
   "source": [
    "### 7. Filtrar elementos mayores a 50\n",
    "Usamos indexación booleana para seleccionar solo los valores mayores a 50.\n"
   ]
  },
  {
   "cell_type": "code",
   "execution_count": 22,
   "id": "13f35e03",
   "metadata": {},
   "outputs": [
    {
     "name": "stdout",
     "output_type": "stream",
     "text": [
      "\n",
      "Elementos mayores a 50:\n",
      " [ 51  52  53  54  55  56  57  58  59  60  61  62  63  64  65  66  67  68\n",
      "  69  70  71  72  73  74  75  76  77  78  79  80  81  82  83  84  85  86\n",
      "  87  88  89  90  91  92  93  94  95  96  97  98  99 100]\n"
     ]
    }
   ],
   "source": [
    "# Obtener elementos mayores a 50\n",
    "elementos_mayores_50 = matriz_10x10[matriz_10x10 > 50]\n",
    "print(\"\\nElementos mayores a 50:\\n\", elementos_mayores_50)"
   ]
  },
  {
   "cell_type": "markdown",
   "id": "4a9bd82b",
   "metadata": {},
   "source": [
    "## Explicación:\n",
    "\n",
    "matriz_10x10 > 50 crea una máscara booleana (True/False).\n",
    "\n",
    "Al aplicarla como índice (matriz_10x10[condición]), solo se devuelven los valores donde la condición es True."
   ]
  }
 ],
 "metadata": {
  "kernelspec": {
   "display_name": "test",
   "language": "python",
   "name": "python3"
  },
  "language_info": {
   "codemirror_mode": {
    "name": "ipython",
    "version": 3
   },
   "file_extension": ".py",
   "mimetype": "text/x-python",
   "name": "python",
   "nbconvert_exporter": "python",
   "pygments_lexer": "ipython3",
   "version": "3.13.5"
  }
 },
 "nbformat": 4,
 "nbformat_minor": 5
}
