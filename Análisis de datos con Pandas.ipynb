{
 "cells": [
  {
   "cell_type": "markdown",
   "id": "2efc0ac8",
   "metadata": {},
   "source": [
    "# Análisis de datos con Pandas\n",
    "1]. Importe la biblioteca Pandas.\n",
    "\n",
    "2].Cree un DataFrame con los siguientes datos:\n",
    "- Nombres: Ana, Luis, Marta, Pedro, Carla\n",
    "- Edad: 23, 34, 22, 43, 26\n",
    "- Ciudad: Bogotá, Medellín, Cali, Bogotá, Medellín\n",
    "  \n",
    "4].Muestre las primeras 3 filas del DataFrame.\n",
    "\n",
    "5].Muestre las estadísticas descriptivas del DataFrame.\n",
    "\n",
    "6].Filtre el DataFrame para obtener solo los registros de personas mayores de 30 años.\n",
    "\n",
    "7].Agregue una columna 'Género' con valores: F, M, F, M, F.\n",
    "\n",
    "8].Guarde el DataFrame en un archivo CSV."
   ]
  },
  {
   "cell_type": "markdown",
   "id": "7a308dc6",
   "metadata": {},
   "source": [
    "### 1. Importar la biblioteca Pandas\n",
    "Primero, se importar Pandas, la biblioteca fundamental para el análisis de datos en Python."
   ]
  },
  {
   "cell_type": "code",
   "execution_count": 22,
   "id": "b786544c",
   "metadata": {},
   "outputs": [],
   "source": [
    "import pandas as pd"
   ]
  },
  {
   "cell_type": "markdown",
   "id": "e831fe02",
   "metadata": {},
   "source": [
    "### 2. Crear un DataFrame\n",
    "se crea un DataFrame con información de 5 personas: sus nombres, edades y ciudades. "
   ]
  },
  {
   "cell_type": "code",
   "execution_count": 23,
   "id": "1c5fd5af",
   "metadata": {},
   "outputs": [
    {
     "data": {
      "text/html": [
       "<div>\n",
       "<style scoped>\n",
       "    .dataframe tbody tr th:only-of-type {\n",
       "        vertical-align: middle;\n",
       "    }\n",
       "\n",
       "    .dataframe tbody tr th {\n",
       "        vertical-align: top;\n",
       "    }\n",
       "\n",
       "    .dataframe thead th {\n",
       "        text-align: right;\n",
       "    }\n",
       "</style>\n",
       "<table border=\"1\" class=\"dataframe\">\n",
       "  <thead>\n",
       "    <tr style=\"text-align: right;\">\n",
       "      <th></th>\n",
       "      <th>Nombres</th>\n",
       "      <th>Edad</th>\n",
       "      <th>Ciudad</th>\n",
       "    </tr>\n",
       "  </thead>\n",
       "  <tbody>\n",
       "    <tr>\n",
       "      <th>0</th>\n",
       "      <td>Ana</td>\n",
       "      <td>23</td>\n",
       "      <td>Bogotá</td>\n",
       "    </tr>\n",
       "    <tr>\n",
       "      <th>1</th>\n",
       "      <td>Luis</td>\n",
       "      <td>34</td>\n",
       "      <td>Medellín</td>\n",
       "    </tr>\n",
       "    <tr>\n",
       "      <th>2</th>\n",
       "      <td>Marta</td>\n",
       "      <td>22</td>\n",
       "      <td>Cali</td>\n",
       "    </tr>\n",
       "    <tr>\n",
       "      <th>3</th>\n",
       "      <td>Pedro</td>\n",
       "      <td>43</td>\n",
       "      <td>Bogotá</td>\n",
       "    </tr>\n",
       "    <tr>\n",
       "      <th>4</th>\n",
       "      <td>Carla</td>\n",
       "      <td>26</td>\n",
       "      <td>Medellín</td>\n",
       "    </tr>\n",
       "  </tbody>\n",
       "</table>\n",
       "</div>"
      ],
      "text/plain": [
       "  Nombres  Edad    Ciudad\n",
       "0     Ana    23    Bogotá\n",
       "1    Luis    34  Medellín\n",
       "2   Marta    22      Cali\n",
       "3   Pedro    43    Bogotá\n",
       "4   Carla    26  Medellín"
      ]
     },
     "execution_count": 23,
     "metadata": {},
     "output_type": "execute_result"
    }
   ],
   "source": [
    "# Se crea un diccionario con los datos\n",
    "datos = {\n",
    "    'Nombres': ['Ana', 'Luis', 'Marta', 'Pedro', 'Carla'],\n",
    "    'Edad': [23, 34, 22, 43, 26],\n",
    "    'Ciudad': ['Bogotá', 'Medellín', 'Cali', 'Bogotá', 'Medellín']\n",
    "}\n",
    "\n",
    "# Conversion del diccionario en un DataFrame\n",
    "df = pd.DataFrame(datos)\n",
    "\n",
    "# DataFrame \n",
    "df"
   ]
  },
  {
   "cell_type": "markdown",
   "id": "903f6d13",
   "metadata": {},
   "source": [
    "### 3. Mostrar las primeras 3 filas del DataFrame"
   ]
  },
  {
   "cell_type": "code",
   "execution_count": 24,
   "id": "bf58d330",
   "metadata": {},
   "outputs": [
    {
     "data": {
      "text/html": [
       "<div>\n",
       "<style scoped>\n",
       "    .dataframe tbody tr th:only-of-type {\n",
       "        vertical-align: middle;\n",
       "    }\n",
       "\n",
       "    .dataframe tbody tr th {\n",
       "        vertical-align: top;\n",
       "    }\n",
       "\n",
       "    .dataframe thead th {\n",
       "        text-align: right;\n",
       "    }\n",
       "</style>\n",
       "<table border=\"1\" class=\"dataframe\">\n",
       "  <thead>\n",
       "    <tr style=\"text-align: right;\">\n",
       "      <th></th>\n",
       "      <th>Nombres</th>\n",
       "      <th>Edad</th>\n",
       "      <th>Ciudad</th>\n",
       "    </tr>\n",
       "  </thead>\n",
       "  <tbody>\n",
       "    <tr>\n",
       "      <th>0</th>\n",
       "      <td>Ana</td>\n",
       "      <td>23</td>\n",
       "      <td>Bogotá</td>\n",
       "    </tr>\n",
       "    <tr>\n",
       "      <th>1</th>\n",
       "      <td>Luis</td>\n",
       "      <td>34</td>\n",
       "      <td>Medellín</td>\n",
       "    </tr>\n",
       "    <tr>\n",
       "      <th>2</th>\n",
       "      <td>Marta</td>\n",
       "      <td>22</td>\n",
       "      <td>Cali</td>\n",
       "    </tr>\n",
       "  </tbody>\n",
       "</table>\n",
       "</div>"
      ],
      "text/plain": [
       "  Nombres  Edad    Ciudad\n",
       "0     Ana    23    Bogotá\n",
       "1    Luis    34  Medellín\n",
       "2   Marta    22      Cali"
      ]
     },
     "execution_count": 24,
     "metadata": {},
     "output_type": "execute_result"
    }
   ],
   "source": [
    "# Método head() para ver las primeras filas\n",
    "primeras_filas = df.head(3)\n",
    "primeras_filas"
   ]
  },
  {
   "cell_type": "markdown",
   "id": "f19aec5e",
   "metadata": {},
   "source": [
    "### 4. Mostrar estadísticas descriptivas del DataFrame"
   ]
  },
  {
   "cell_type": "code",
   "execution_count": 25,
   "id": "6c6b9a85",
   "metadata": {},
   "outputs": [
    {
     "data": {
      "text/html": [
       "<div>\n",
       "<style scoped>\n",
       "    .dataframe tbody tr th:only-of-type {\n",
       "        vertical-align: middle;\n",
       "    }\n",
       "\n",
       "    .dataframe tbody tr th {\n",
       "        vertical-align: top;\n",
       "    }\n",
       "\n",
       "    .dataframe thead th {\n",
       "        text-align: right;\n",
       "    }\n",
       "</style>\n",
       "<table border=\"1\" class=\"dataframe\">\n",
       "  <thead>\n",
       "    <tr style=\"text-align: right;\">\n",
       "      <th></th>\n",
       "      <th>Edad</th>\n",
       "    </tr>\n",
       "  </thead>\n",
       "  <tbody>\n",
       "    <tr>\n",
       "      <th>count</th>\n",
       "      <td>5.000000</td>\n",
       "    </tr>\n",
       "    <tr>\n",
       "      <th>mean</th>\n",
       "      <td>29.600000</td>\n",
       "    </tr>\n",
       "    <tr>\n",
       "      <th>std</th>\n",
       "      <td>8.848729</td>\n",
       "    </tr>\n",
       "    <tr>\n",
       "      <th>min</th>\n",
       "      <td>22.000000</td>\n",
       "    </tr>\n",
       "    <tr>\n",
       "      <th>25%</th>\n",
       "      <td>23.000000</td>\n",
       "    </tr>\n",
       "    <tr>\n",
       "      <th>50%</th>\n",
       "      <td>26.000000</td>\n",
       "    </tr>\n",
       "    <tr>\n",
       "      <th>75%</th>\n",
       "      <td>34.000000</td>\n",
       "    </tr>\n",
       "    <tr>\n",
       "      <th>max</th>\n",
       "      <td>43.000000</td>\n",
       "    </tr>\n",
       "  </tbody>\n",
       "</table>\n",
       "</div>"
      ],
      "text/plain": [
       "            Edad\n",
       "count   5.000000\n",
       "mean   29.600000\n",
       "std     8.848729\n",
       "min    22.000000\n",
       "25%    23.000000\n",
       "50%    26.000000\n",
       "75%    34.000000\n",
       "max    43.000000"
      ]
     },
     "execution_count": 25,
     "metadata": {},
     "output_type": "execute_result"
    }
   ],
   "source": [
    "# El método describe() nos da estadísticas básicas\n",
    "estadisticas = df.describe()\n",
    "estadisticas"
   ]
  },
  {
   "cell_type": "markdown",
   "id": "28a3deca",
   "metadata": {},
   "source": [
    "### 5. Filtrar personas mayores de 30 años"
   ]
  },
  {
   "cell_type": "code",
   "execution_count": 26,
   "id": "08e190e3",
   "metadata": {},
   "outputs": [
    {
     "data": {
      "text/html": [
       "<div>\n",
       "<style scoped>\n",
       "    .dataframe tbody tr th:only-of-type {\n",
       "        vertical-align: middle;\n",
       "    }\n",
       "\n",
       "    .dataframe tbody tr th {\n",
       "        vertical-align: top;\n",
       "    }\n",
       "\n",
       "    .dataframe thead th {\n",
       "        text-align: right;\n",
       "    }\n",
       "</style>\n",
       "<table border=\"1\" class=\"dataframe\">\n",
       "  <thead>\n",
       "    <tr style=\"text-align: right;\">\n",
       "      <th></th>\n",
       "      <th>Nombres</th>\n",
       "      <th>Edad</th>\n",
       "      <th>Ciudad</th>\n",
       "    </tr>\n",
       "  </thead>\n",
       "  <tbody>\n",
       "    <tr>\n",
       "      <th>1</th>\n",
       "      <td>Luis</td>\n",
       "      <td>34</td>\n",
       "      <td>Medellín</td>\n",
       "    </tr>\n",
       "    <tr>\n",
       "      <th>3</th>\n",
       "      <td>Pedro</td>\n",
       "      <td>43</td>\n",
       "      <td>Bogotá</td>\n",
       "    </tr>\n",
       "  </tbody>\n",
       "</table>\n",
       "</div>"
      ],
      "text/plain": [
       "  Nombres  Edad    Ciudad\n",
       "1    Luis    34  Medellín\n",
       "3   Pedro    43    Bogotá"
      ]
     },
     "execution_count": 26,
     "metadata": {},
     "output_type": "execute_result"
    }
   ],
   "source": [
    "# Filtrado usando una condición booleana\n",
    "mayores_30 = df[df['Edad'] > 30]\n",
    "mayores_30"
   ]
  },
  {
   "cell_type": "markdown",
   "id": "1ec046c9",
   "metadata": {},
   "source": [
    "### 6. Agregar una columna 'Género'"
   ]
  },
  {
   "cell_type": "code",
   "execution_count": 27,
   "id": "8fa9314a",
   "metadata": {},
   "outputs": [
    {
     "data": {
      "text/html": [
       "<div>\n",
       "<style scoped>\n",
       "    .dataframe tbody tr th:only-of-type {\n",
       "        vertical-align: middle;\n",
       "    }\n",
       "\n",
       "    .dataframe tbody tr th {\n",
       "        vertical-align: top;\n",
       "    }\n",
       "\n",
       "    .dataframe thead th {\n",
       "        text-align: right;\n",
       "    }\n",
       "</style>\n",
       "<table border=\"1\" class=\"dataframe\">\n",
       "  <thead>\n",
       "    <tr style=\"text-align: right;\">\n",
       "      <th></th>\n",
       "      <th>Nombres</th>\n",
       "      <th>Edad</th>\n",
       "      <th>Ciudad</th>\n",
       "      <th>Género</th>\n",
       "    </tr>\n",
       "  </thead>\n",
       "  <tbody>\n",
       "    <tr>\n",
       "      <th>0</th>\n",
       "      <td>Ana</td>\n",
       "      <td>23</td>\n",
       "      <td>Bogotá</td>\n",
       "      <td>F</td>\n",
       "    </tr>\n",
       "    <tr>\n",
       "      <th>1</th>\n",
       "      <td>Luis</td>\n",
       "      <td>34</td>\n",
       "      <td>Medellín</td>\n",
       "      <td>M</td>\n",
       "    </tr>\n",
       "    <tr>\n",
       "      <th>2</th>\n",
       "      <td>Marta</td>\n",
       "      <td>22</td>\n",
       "      <td>Cali</td>\n",
       "      <td>F</td>\n",
       "    </tr>\n",
       "    <tr>\n",
       "      <th>3</th>\n",
       "      <td>Pedro</td>\n",
       "      <td>43</td>\n",
       "      <td>Bogotá</td>\n",
       "      <td>M</td>\n",
       "    </tr>\n",
       "    <tr>\n",
       "      <th>4</th>\n",
       "      <td>Carla</td>\n",
       "      <td>26</td>\n",
       "      <td>Medellín</td>\n",
       "      <td>F</td>\n",
       "    </tr>\n",
       "  </tbody>\n",
       "</table>\n",
       "</div>"
      ],
      "text/plain": [
       "  Nombres  Edad    Ciudad Género\n",
       "0     Ana    23    Bogotá      F\n",
       "1    Luis    34  Medellín      M\n",
       "2   Marta    22      Cali      F\n",
       "3   Pedro    43    Bogotá      M\n",
       "4   Carla    26  Medellín      F"
      ]
     },
     "execution_count": 27,
     "metadata": {},
     "output_type": "execute_result"
    }
   ],
   "source": [
    "# Una nueva columna al DataFrame\n",
    "df['Género'] = ['F', 'M', 'F', 'M', 'F']\n",
    "\n",
    "# DataFrame con la nueva columna\n",
    "df"
   ]
  },
  {
   "cell_type": "markdown",
   "id": "c60eb886",
   "metadata": {},
   "source": [
    "### 7. Guardar el DataFrame en un archivo CSV"
   ]
  },
  {
   "cell_type": "code",
   "execution_count": 28,
   "id": "19da50ce",
   "metadata": {},
   "outputs": [
    {
     "name": "stdout",
     "output_type": "stream",
     "text": [
      "DataFrame guardado exitosamente como 'personas.csv'\n"
     ]
    }
   ],
   "source": [
    "# Se guarda  el DataFrame en un archivo llamado 'personas.csv'\n",
    "df.to_csv('personas.csv', index=False)\n",
    "\n",
    "# Mensaje de confirmación\n",
    "print(\"DataFrame guardado exitosamente como 'personas.csv'\")"
   ]
  }
 ],
 "metadata": {
  "kernelspec": {
   "display_name": "test",
   "language": "python",
   "name": "python3"
  },
  "language_info": {
   "codemirror_mode": {
    "name": "ipython",
    "version": 3
   },
   "file_extension": ".py",
   "mimetype": "text/x-python",
   "name": "python",
   "nbconvert_exporter": "python",
   "pygments_lexer": "ipython3",
   "version": "3.13.5"
  }
 },
 "nbformat": 4,
 "nbformat_minor": 5
}
